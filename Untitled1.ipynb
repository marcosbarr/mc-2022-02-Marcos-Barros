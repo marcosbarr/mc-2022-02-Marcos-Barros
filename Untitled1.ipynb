{
  "nbformat": 4,
  "nbformat_minor": 0,
  "metadata": {
    "colab": {
      "name": "Untitled1.ipynb",
      "provenance": [],
      "authorship_tag": "ABX9TyPDpTyzmsK+pp8cUbkH2iG4",
      "include_colab_link": true
    },
    "kernelspec": {
      "name": "python3",
      "display_name": "Python 3"
    },
    "language_info": {
      "name": "python"
    }
  },
  "cells": [
    {
      "cell_type": "markdown",
      "metadata": {
        "id": "view-in-github",
        "colab_type": "text"
      },
      "source": [
        "<a href=\"https://colab.research.google.com/github/marcosbarr/mc-2022-02-Marcos-Barros/blob/main/Untitled1.ipynb\" target=\"_parent\"><img src=\"https://colab.research.google.com/assets/colab-badge.svg\" alt=\"Open In Colab\"/></a>"
      ]
    },
    {
      "cell_type": "code",
      "execution_count": 7,
      "metadata": {
        "colab": {
          "base_uri": "https://localhost:8080/"
        },
        "id": "GRq0ivjburly",
        "outputId": "9d9a6aa2-4595-43eb-9356-b70af883f4fd"
      },
      "outputs": [
        {
          "output_type": "stream",
          "name": "stdout",
          "text": [
            "parcial 1\n",
            "{2, 11, 12, 13, 15, 16, 17, 19, 20, 21, 23, 24, 25, 27, 28, 29}\n",
            "{2, 3, 5, 6, 7, 11, 13, 17, 19, 23, 29, 30, 31, 34, 37, 38, 42}\n",
            "{0, 4, 6, 11, 12, 13, 15, 16, 17, 19, 20, 21, 23, 24, 25, 27, 28, 29, 48}\n"
          ]
        }
      ],
      "source": [
        "print(\"parcial 1\")\n",
        "\n",
        "A={10,11,12,13,14,15,16,17,18,19,20,21,22,23,24,25,26,27,28,29}\n",
        "B={0,2,4,6,12,24,48}\n",
        "C={6,10,14,18,22,26,30,34,38,42}\n",
        "D={2,3,5,7,11,13,17,19,23,29,31,37}\n",
        "print(A-C^B&D)\n",
        "print(B&D^C-A|D)\n",
        "print(A&B&C|A-C|B-D)"
      ]
    }
  ]
}